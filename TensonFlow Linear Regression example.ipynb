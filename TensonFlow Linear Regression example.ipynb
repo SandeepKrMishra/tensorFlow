{
 "cells": [
  {
   "cell_type": "code",
   "execution_count": 1,
   "metadata": {
    "collapsed": false
   },
   "outputs": [
    {
     "name": "stderr",
     "output_type": "stream",
     "text": [
      "/usr/local/lib/python2.7/dist-packages/sklearn/cross_validation.py:44: DeprecationWarning: This module was deprecated in version 0.18 in favor of the model_selection module into which all the refactored classes and functions are moved. Also note that the interface of the new CV iterators are different from that of this module. This module will be removed in 0.20.\n",
      "  \"This module will be removed in 0.20.\", DeprecationWarning)\n"
     ]
    }
   ],
   "source": [
    "import tensorflow as tf\n",
    "import numpy\n",
    "import matplotlib.pyplot as plt"
   ]
  },
  {
   "cell_type": "code",
   "execution_count": 2,
   "metadata": {
    "collapsed": true
   },
   "outputs": [],
   "source": [
    "rng = numpy.random"
   ]
  },
  {
   "cell_type": "code",
   "execution_count": 5,
   "metadata": {
    "collapsed": false
   },
   "outputs": [],
   "source": [
    "# Training Data\n",
    "train_X = numpy.asarray([3.3,4.4,5.5,6.71,6.93,4.168,9.779,6.182,7.59,2.167,7.042,10.791,5.313,7.997,5.654,9.27,3.1])\n",
    "train_Y = numpy.asarray([1.7,2.76,2.09,3.19,1.694,1.573,3.366,2.596,2.53,1.221,2.827,3.465,1.65,2.904,2.42,2.94,1.3])"
   ]
  },
  {
   "cell_type": "code",
   "execution_count": 21,
   "metadata": {
    "collapsed": false
   },
   "outputs": [
    {
     "name": "stdout",
     "output_type": "stream",
     "text": [
      "(17,)\n",
      "17\n"
     ]
    }
   ],
   "source": [
    "sampleData = train_X.shape[0]\n",
    "print(train_X.shape)\n",
    "print(sampleData)"
   ]
  },
  {
   "cell_type": "code",
   "execution_count": 42,
   "metadata": {
    "collapsed": false
   },
   "outputs": [],
   "source": [
    "# tf Graph Input\n",
    "X = tf.placeholder(\"float\")\n",
    "Y = tf.placeholder(\"float\")\n",
    "\n",
    "# Parameters\n",
    "learning_rate = 0.01\n",
    "training_epochs = 2000\n",
    "display_step = 50"
   ]
  },
  {
   "cell_type": "code",
   "execution_count": 43,
   "metadata": {
    "collapsed": false
   },
   "outputs": [],
   "source": [
    "# Create Model\n",
    "\n",
    "# Set model weights\n",
    "W = tf.Variable(rng.randn(), name=\"weight\")\n",
    "b = tf.Variable(rng.randn(), name=\"bias\")"
   ]
  },
  {
   "cell_type": "code",
   "execution_count": 44,
   "metadata": {
    "collapsed": false
   },
   "outputs": [],
   "source": [
    "# Construct a linear model\n",
    "activation = tf.add(tf.mul(X, W), b)"
   ]
  },
  {
   "cell_type": "code",
   "execution_count": 45,
   "metadata": {
    "collapsed": false
   },
   "outputs": [],
   "source": [
    "cost = tf.reduce_sum(tf.pow(activation-Y,2)/(2*sampleData))"
   ]
  },
  {
   "cell_type": "code",
   "execution_count": 46,
   "metadata": {
    "collapsed": false
   },
   "outputs": [],
   "source": [
    "optimizer = tf.train.GradientDescentOptimizer(learning_rate).minimize(cost)"
   ]
  },
  {
   "cell_type": "code",
   "execution_count": 47,
   "metadata": {
    "collapsed": true
   },
   "outputs": [],
   "source": [
    "# Initializing the variables\n",
    "init = tf.initialize_all_variables()"
   ]
  },
  {
   "cell_type": "code",
   "execution_count": 49,
   "metadata": {
    "collapsed": false
   },
   "outputs": [
    {
     "name": "stdout",
     "output_type": "stream",
     "text": [
      "Epoch: 0001 cost= 53.723274231 W= -1.12731 b= -0.45399\n",
      "Epoch: 0051 cost= 0.135910839 W= 0.385383 b= -0.175396\n",
      "Epoch: 0101 cost= 0.129099399 W= 0.377307 b= -0.117297\n",
      "Epoch: 0151 cost= 0.123074777 W= 0.369712 b= -0.0626538\n",
      "Epoch: 0201 cost= 0.117746100 W= 0.362568 b= -0.0112604\n",
      "Epoch: 0251 cost= 0.113033004 W= 0.355849 b= 0.0370763\n",
      "Epoch: 0301 cost= 0.108864412 W= 0.349529 b= 0.0825383\n",
      "Epoch: 0351 cost= 0.105177462 W= 0.343585 b= 0.125296\n",
      "Epoch: 0401 cost= 0.101916537 W= 0.337995 b= 0.165511\n",
      "Epoch: 0451 cost= 0.099032424 W= 0.332738 b= 0.203335\n",
      "Epoch: 0501 cost= 0.096481606 W= 0.327793 b= 0.238908\n",
      "Epoch: 0551 cost= 0.094225623 W= 0.323142 b= 0.272366\n",
      "Epoch: 0601 cost= 0.092230365 W= 0.318768 b= 0.303834\n",
      "Epoch: 0651 cost= 0.090465799 W= 0.314654 b= 0.33343\n",
      "Epoch: 0701 cost= 0.088905156 W= 0.310784 b= 0.361266\n",
      "Epoch: 0751 cost= 0.087524973 W= 0.307145 b= 0.387448\n",
      "Epoch: 0801 cost= 0.086304396 W= 0.303722 b= 0.412071\n",
      "Epoch: 0851 cost= 0.085224971 W= 0.300503 b= 0.43523\n",
      "Epoch: 0901 cost= 0.084270388 W= 0.297475 b= 0.457012\n",
      "Epoch: 0951 cost= 0.083426207 W= 0.294627 b= 0.477499\n",
      "Epoch: 1001 cost= 0.082679749 W= 0.291949 b= 0.496766\n",
      "Epoch: 1051 cost= 0.082019635 W= 0.28943 b= 0.514888\n",
      "Epoch: 1101 cost= 0.081435904 W= 0.28706 b= 0.531933\n",
      "Epoch: 1151 cost= 0.080919743 W= 0.284832 b= 0.547963\n",
      "Epoch: 1201 cost= 0.080463335 W= 0.282736 b= 0.563041\n",
      "Epoch: 1251 cost= 0.080059774 W= 0.280765 b= 0.577222\n",
      "Epoch: 1301 cost= 0.079702944 W= 0.278911 b= 0.59056\n",
      "Epoch: 1351 cost= 0.079387426 W= 0.277167 b= 0.603106\n",
      "Epoch: 1401 cost= 0.079108492 W= 0.275527 b= 0.614904\n",
      "Epoch: 1451 cost= 0.078861937 W= 0.273985 b= 0.625999\n",
      "Epoch: 1501 cost= 0.078643963 W= 0.272534 b= 0.636434\n",
      "Epoch: 1551 cost= 0.078451283 W= 0.27117 b= 0.646248\n",
      "Epoch: 1601 cost= 0.078280918 W= 0.269887 b= 0.655479\n",
      "Epoch: 1651 cost= 0.078130350 W= 0.26868 b= 0.664161\n",
      "Epoch: 1701 cost= 0.077997223 W= 0.267545 b= 0.672327\n",
      "Epoch: 1751 cost= 0.077879556 W= 0.266477 b= 0.680007\n",
      "Epoch: 1801 cost= 0.077775598 W= 0.265473 b= 0.68723\n",
      "Epoch: 1851 cost= 0.077683702 W= 0.264529 b= 0.694024\n",
      "Epoch: 1901 cost= 0.077602468 W= 0.26364 b= 0.700414\n",
      "Epoch: 1951 cost= 0.077530704 W= 0.262805 b= 0.706424\n",
      "Optimization Finished!\n",
      "cost= 0.0774685 W= 0.262035 b= 0.711967\n"
     ]
    }
   ],
   "source": [
    "# Launch the graph\n",
    "with tf.Session() as sess:\n",
    "    sess.run(init)\n",
    "    \n",
    "    # Fit all training data\n",
    "    for epoch in range(training_epochs):\n",
    "        for (x, y) in zip(train_X, train_Y):\n",
    "            sess.run(optimizer, feed_dict={X: x, Y: y})\n",
    "\n",
    "        #Display logs per epoch step\n",
    "        if epoch % display_step == 0:\n",
    "            print \"Epoch:\", '%04d' % (epoch+1), \"cost=\", \"{:.9f}\".format(sess.run(cost, feed_dict={X: train_X, Y:train_Y})), \\\n",
    "                \"W=\", sess.run(W), \"b=\", sess.run(b)\n",
    "\n",
    "    print \"Optimization Finished!\"\n",
    "    print \"cost=\", sess.run(cost, feed_dict={X: train_X, Y: train_Y}), \"W=\", sess.run(W), \"b=\", sess.run(b)\n",
    "\n",
    "    #Graphic display\n",
    "    plt.plot(train_X, train_Y, 'ro', label='Original data')\n",
    "    plt.plot(train_X, sess.run(W) * train_X + sess.run(b), label='Fitted line')\n",
    "    plt.legend()\n",
    "    plt.show()\n",
    "    "
   ]
  },
  {
   "cell_type": "code",
   "execution_count": 51,
   "metadata": {
    "collapsed": false
   },
   "outputs": [
    {
     "ename": "SyntaxError",
     "evalue": "invalid syntax (<ipython-input-51-41f6f2adf13f>, line 1)",
     "output_type": "error",
     "traceback": [
      "\u001b[0;36m  File \u001b[0;32m\"<ipython-input-51-41f6f2adf13f>\"\u001b[0;36m, line \u001b[0;32m1\u001b[0m\n\u001b[0;31m    sess.run(activation, feed_dict = {X= 3.8, W= 0.262035 b= 0.711967})\u001b[0m\n\u001b[0m                                       ^\u001b[0m\n\u001b[0;31mSyntaxError\u001b[0m\u001b[0;31m:\u001b[0m invalid syntax\n"
     ]
    }
   ],
   "source": [
    "sess.run(activation, feed_dict = {X= 3.8, W= 0.262035 b= 0.711967})"
   ]
  },
  {
   "cell_type": "code",
   "execution_count": null,
   "metadata": {
    "collapsed": true
   },
   "outputs": [],
   "source": []
  }
 ],
 "metadata": {
  "kernelspec": {
   "display_name": "Python 2",
   "language": "python",
   "name": "python2"
  },
  "language_info": {
   "codemirror_mode": {
    "name": "ipython",
    "version": 2
   },
   "file_extension": ".py",
   "mimetype": "text/x-python",
   "name": "python",
   "nbconvert_exporter": "python",
   "pygments_lexer": "ipython2",
   "version": "2.7.6"
  }
 },
 "nbformat": 4,
 "nbformat_minor": 2
}
