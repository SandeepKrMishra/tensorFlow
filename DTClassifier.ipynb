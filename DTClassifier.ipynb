{
 "cells": [
  {
   "cell_type": "code",
   "execution_count": 1,
   "metadata": {
    "collapsed": false
   },
   "outputs": [
    {
     "name": "stderr",
     "output_type": "stream",
     "text": [
      "/usr/local/lib/python2.7/dist-packages/sklearn/cross_validation.py:44: DeprecationWarning: This module was deprecated in version 0.18 in favor of the model_selection module into which all the refactored classes and functions are moved. Also note that the interface of the new CV iterators are different from that of this module. This module will be removed in 0.20.\n",
      "  \"This module will be removed in 0.20.\", DeprecationWarning)\n"
     ]
    }
   ],
   "source": [
    "import tensorflow as tf"
   ]
  },
  {
   "cell_type": "code",
   "execution_count": 1,
   "metadata": {
    "collapsed": true
   },
   "outputs": [],
   "source": [
    "import pandas as pd\n",
    "import numpy as nm\n",
    "\n",
    "train_data = pd.read_csv(\"/home/sandeep/Downloads/SalesTraning.csv\")\n",
    "test_data = pd.read_csv(\"/home/sandeep/Downloads/SalesTesting2.csv\")"
   ]
  },
  {
   "cell_type": "code",
   "execution_count": 39,
   "metadata": {
    "collapsed": false
   },
   "outputs": [
    {
     "data": {
      "text/html": [
       "<div style=\"max-height:1000px;max-width:1500px;overflow:auto;\">\n",
       "<table border=\"1\" class=\"dataframe\">\n",
       "  <thead>\n",
       "    <tr style=\"text-align: right;\">\n",
       "      <th></th>\n",
       "      <th> sales_amount</th>\n",
       "      <th> store_location</th>\n",
       "      <th> brand</th>\n",
       "      <th> buyer_gender</th>\n",
       "    </tr>\n",
       "  </thead>\n",
       "  <tbody>\n",
       "    <tr>\n",
       "      <th>0</th>\n",
       "      <td> 5600</td>\n",
       "      <td>  San Francisco</td>\n",
       "      <td>  KitchenAid</td>\n",
       "      <td>    Male</td>\n",
       "    </tr>\n",
       "    <tr>\n",
       "      <th>1</th>\n",
       "      <td> 3250</td>\n",
       "      <td>        Phoenix</td>\n",
       "      <td>          GE</td>\n",
       "      <td>    Male</td>\n",
       "    </tr>\n",
       "    <tr>\n",
       "      <th>2</th>\n",
       "      <td> 7000</td>\n",
       "      <td>      Bangaluru</td>\n",
       "      <td>        Sony</td>\n",
       "      <td>    Male</td>\n",
       "    </tr>\n",
       "    <tr>\n",
       "      <th>3</th>\n",
       "      <td> 8000</td>\n",
       "      <td>        Chennai</td>\n",
       "      <td>        Dell</td>\n",
       "      <td>  Female</td>\n",
       "    </tr>\n",
       "    <tr>\n",
       "      <th>4</th>\n",
       "      <td> 2800</td>\n",
       "      <td>      Hyderabad</td>\n",
       "      <td>      Lenova</td>\n",
       "      <td>  Female</td>\n",
       "    </tr>\n",
       "  </tbody>\n",
       "</table>\n",
       "<p>5 rows × 4 columns</p>\n",
       "</div>"
      ],
      "text/plain": [
       "    sales_amount  store_location        brand  buyer_gender\n",
       "0           5600   San Francisco   KitchenAid          Male\n",
       "1           3250         Phoenix           GE          Male\n",
       "2           7000       Bangaluru         Sony          Male\n",
       "3           8000         Chennai         Dell        Female\n",
       "4           2800       Hyderabad       Lenova        Female\n",
       "\n",
       "[5 rows x 4 columns]"
      ]
     },
     "execution_count": 39,
     "metadata": {},
     "output_type": "execute_result"
    }
   ],
   "source": [
    "test_data.head()"
   ]
  },
  {
   "cell_type": "code",
   "execution_count": 6,
   "metadata": {
    "collapsed": true
   },
   "outputs": [],
   "source": [
    "#Import Library\n",
    "#Import other necessary libraries like pandas, numpy...\n",
    "from sklearn import tree\n",
    "#Assumed you have, X (predictor) and Y (target) for training data set and x_test(predictor) of test_dataset\n",
    "# Create tree object \n",
    "model = tree.DecisionTreeClassifier(criterion='gini') # for classification, here you can change the algorithm as gini or entropy (information gain) by default it is gini  \n",
    "# model = tree.DecisionTreeRegressor() for regression\n",
    "# Train the model using the training sets and check score"
   ]
  },
  {
   "cell_type": "code",
   "execution_count": 7,
   "metadata": {
    "collapsed": true
   },
   "outputs": [],
   "source": [
    "#model.fit(X, y)\n",
    "#model.score(X, y)\n",
    "#Predict Output\n",
    "#predicted= model.predict(x_test)"
   ]
  },
  {
   "cell_type": "code",
   "execution_count": 37,
   "metadata": {
    "collapsed": false
   },
   "outputs": [],
   "source": [
    "X_train = train_data.ix[:,[3]] #0,2,3\n",
    "y_train = train_data.ix[:,[1]]"
   ]
  },
  {
   "cell_type": "code",
   "execution_count": 40,
   "metadata": {
    "collapsed": false
   },
   "outputs": [],
   "source": [
    "X_test = test_data.ix[:,[0]] #0,1,3\n",
    "y_test = test_data.ix[:,[2]]"
   ]
  },
  {
   "cell_type": "code",
   "execution_count": 42,
   "metadata": {
    "collapsed": false
   },
   "outputs": [],
   "source": [
    "model.fit(X_train, y_train)\n",
    "model.score(X_train, y_train)\n",
    "#Predict Output\n",
    "predicted= model.predict(X_test)"
   ]
  },
  {
   "cell_type": "code",
   "execution_count": 87,
   "metadata": {
    "collapsed": false
   },
   "outputs": [
    {
     "data": {
      "text/plain": [
       "array([[12,  4,  7,  6,  0,  5,  3,  2,  3],\n",
       "       [ 8,  8, 12,  6,  0,  5,  7,  6,  6],\n",
       "       [ 1,  2,  3,  4,  0,  2,  2,  2,  1],\n",
       "       [ 2,  6,  7,  6,  0,  2,  3,  4,  3],\n",
       "       [ 8,  2,  0,  3,  0,  0,  0,  2,  1],\n",
       "       [ 1,  1,  2,  1,  0,  1,  0,  0,  1],\n",
       "       [ 0,  0,  0,  0,  0,  0,  0,  0,  0],\n",
       "       [ 0,  0,  0,  0,  0,  0,  0,  0,  0],\n",
       "       [ 0,  0,  0,  0,  0,  0,  0,  0,  0]])"
      ]
     },
     "execution_count": 87,
     "metadata": {},
     "output_type": "execute_result"
    }
   ],
   "source": [
    "from sklearn.metrics import confusion_matrix\n",
    "y_t = y_test.values.flat\n",
    "y_actu = y_test\n",
    "y_pred = predicted\n",
    "confusion_matrix(y_pred, y_t)"
   ]
  },
  {
   "cell_type": "code",
   "execution_count": 77,
   "metadata": {
    "collapsed": false
   },
   "outputs": [
    {
     "data": {
      "text/plain": [
       "{' Electrolux', ' Frigidaire', ' GE', ' KitchenAid', ' LG', ' Samsung'}"
      ]
     },
     "execution_count": 77,
     "metadata": {},
     "output_type": "execute_result"
    }
   ],
   "source": [
    "set(predicted)\n",
    "# set(y_test)\n",
    "#y_test#.groupby([0])  #.apply(lambda x: len(x.unique()))\n",
    "\n",
    "#y_test['brand'] #['brand'].value_counts()\n",
    "\n",
    "# y_t = y_test.ix[:,[0]]\n",
    "\n"
   ]
  },
  {
   "cell_type": "markdown",
   "metadata": {},
   "source": [
    "y_t = y_test.values.flat\n",
    "set(y_t)\n"
   ]
  },
  {
   "cell_type": "code",
   "execution_count": 76,
   "metadata": {
    "collapsed": false
   },
   "outputs": [
    {
     "data": {
      "text/plain": [
       "{' Electrolux',\n",
       " ' Frigidaire',\n",
       " ' GE',\n",
       " ' KitchenAid',\n",
       " ' Samsung',\n",
       " 'Dell',\n",
       " 'Lenova',\n",
       " 'Sony'}"
      ]
     },
     "execution_count": 76,
     "metadata": {},
     "output_type": "execute_result"
    }
   ],
   "source": [
    "y_t = y_test.values.flat\n",
    "set(y_t)"
   ]
  },
  {
   "cell_type": "code",
   "execution_count": 86,
   "metadata": {
    "collapsed": false
   },
   "outputs": [
    {
     "data": {
      "text/html": [
       "<div style=\"max-height:1000px;max-width:1500px;overflow:auto;\">\n",
       "<table border=\"1\" class=\"dataframe\">\n",
       "  <thead>\n",
       "    <tr style=\"text-align: right;\">\n",
       "      <th>Predicted</th>\n",
       "      <th> Electrolux</th>\n",
       "      <th> Frigidaire</th>\n",
       "      <th> GE</th>\n",
       "      <th> KitchenAid</th>\n",
       "      <th> LG</th>\n",
       "      <th> Samsung</th>\n",
       "      <th>All</th>\n",
       "    </tr>\n",
       "    <tr>\n",
       "      <th>True</th>\n",
       "      <th></th>\n",
       "      <th></th>\n",
       "      <th></th>\n",
       "      <th></th>\n",
       "      <th></th>\n",
       "      <th></th>\n",
       "      <th></th>\n",
       "    </tr>\n",
       "  </thead>\n",
       "  <tbody>\n",
       "    <tr>\n",
       "      <th> Electrolux</th>\n",
       "      <td> 12</td>\n",
       "      <td>  8</td>\n",
       "      <td>  1</td>\n",
       "      <td>  2</td>\n",
       "      <td>  8</td>\n",
       "      <td> 1</td>\n",
       "      <td>  32</td>\n",
       "    </tr>\n",
       "    <tr>\n",
       "      <th> Frigidaire</th>\n",
       "      <td>  4</td>\n",
       "      <td>  8</td>\n",
       "      <td>  2</td>\n",
       "      <td>  6</td>\n",
       "      <td>  2</td>\n",
       "      <td> 1</td>\n",
       "      <td>  23</td>\n",
       "    </tr>\n",
       "    <tr>\n",
       "      <th> GE</th>\n",
       "      <td>  7</td>\n",
       "      <td> 12</td>\n",
       "      <td>  3</td>\n",
       "      <td>  7</td>\n",
       "      <td>  0</td>\n",
       "      <td> 2</td>\n",
       "      <td>  31</td>\n",
       "    </tr>\n",
       "    <tr>\n",
       "      <th> KitchenAid</th>\n",
       "      <td>  6</td>\n",
       "      <td>  6</td>\n",
       "      <td>  4</td>\n",
       "      <td>  6</td>\n",
       "      <td>  3</td>\n",
       "      <td> 1</td>\n",
       "      <td>  26</td>\n",
       "    </tr>\n",
       "    <tr>\n",
       "      <th> Samsung</th>\n",
       "      <td>  5</td>\n",
       "      <td>  5</td>\n",
       "      <td>  2</td>\n",
       "      <td>  2</td>\n",
       "      <td>  0</td>\n",
       "      <td> 1</td>\n",
       "      <td>  15</td>\n",
       "    </tr>\n",
       "    <tr>\n",
       "      <th>Dell</th>\n",
       "      <td>  3</td>\n",
       "      <td>  7</td>\n",
       "      <td>  2</td>\n",
       "      <td>  3</td>\n",
       "      <td>  0</td>\n",
       "      <td> 0</td>\n",
       "      <td>  15</td>\n",
       "    </tr>\n",
       "    <tr>\n",
       "      <th>Lenova</th>\n",
       "      <td>  2</td>\n",
       "      <td>  6</td>\n",
       "      <td>  2</td>\n",
       "      <td>  4</td>\n",
       "      <td>  2</td>\n",
       "      <td> 0</td>\n",
       "      <td>  16</td>\n",
       "    </tr>\n",
       "    <tr>\n",
       "      <th>Sony</th>\n",
       "      <td>  3</td>\n",
       "      <td>  6</td>\n",
       "      <td>  1</td>\n",
       "      <td>  3</td>\n",
       "      <td>  1</td>\n",
       "      <td> 1</td>\n",
       "      <td>  15</td>\n",
       "    </tr>\n",
       "    <tr>\n",
       "      <th>All</th>\n",
       "      <td> 42</td>\n",
       "      <td> 58</td>\n",
       "      <td> 17</td>\n",
       "      <td> 33</td>\n",
       "      <td> 16</td>\n",
       "      <td> 7</td>\n",
       "      <td> 173</td>\n",
       "    </tr>\n",
       "  </tbody>\n",
       "</table>\n",
       "<p>9 rows × 7 columns</p>\n",
       "</div>"
      ],
      "text/plain": [
       "Predicted     Electrolux   Frigidaire   GE   KitchenAid   LG   Samsung  All\n",
       "True                                                                       \n",
       " Electrolux           12            8    1            2    8         1   32\n",
       " Frigidaire            4            8    2            6    2         1   23\n",
       " GE                    7           12    3            7    0         2   31\n",
       " KitchenAid            6            6    4            6    3         1   26\n",
       " Samsung               5            5    2            2    0         1   15\n",
       "Dell                   3            7    2            3    0         0   15\n",
       "Lenova                 2            6    2            4    2         0   16\n",
       "Sony                   3            6    1            3    1         1   15\n",
       "All                   42           58   17           33   16         7  173\n",
       "\n",
       "[9 rows x 7 columns]"
      ]
     },
     "execution_count": 86,
     "metadata": {},
     "output_type": "execute_result"
    }
   ],
   "source": [
    "import pandas as pd\n",
    "# y_true1 = pd.Series([2, 0, 2, 2, 0, 1, 1, 2, 2, 0, 1, 2])\n",
    "# y_pred1 = pd.Series([0, 0, 2, 1, 0, 2, 1, 0, 2, 0, 2, 2])\n",
    "y_true1 = y_t\n",
    "y_pred1 = predicted\n",
    "pd.crosstab(y_true1, y_pred1, rownames=['True'], colnames=['Predicted'], margins=True)"
   ]
  },
  {
   "cell_type": "code",
   "execution_count": 91,
   "metadata": {
    "collapsed": false
   },
   "outputs": [
    {
     "data": {
      "text/plain": [
       "array([[1, 0, 0, 1, 0, 0],\n",
       "       [0, 1, 2, 0, 0, 0],\n",
       "       [1, 1, 3, 0, 1, 0],\n",
       "       [0, 0, 0, 0, 0, 0],\n",
       "       [0, 0, 0, 0, 0, 0],\n",
       "       [1, 0, 0, 0, 0, 0]])"
      ]
     },
     "execution_count": 91,
     "metadata": {},
     "output_type": "execute_result"
    }
   ],
   "source": [
    "from sklearn.metrics import confusion_matrix\n",
    "y_actu1 = [2, 0, 2, 2, 0, 1, 1, 2, 2, 9, 1, 2]\n",
    "y_pred1 = [0, 0, 2, 1, 3, 2, 1, 4, 2, 0, 2, 2]\n",
    "confusion_matrix(y_actu1, y_pred1)"
   ]
  },
  {
   "cell_type": "code",
   "execution_count": null,
   "metadata": {
    "collapsed": true
   },
   "outputs": [],
   "source": []
  }
 ],
 "metadata": {
  "kernelspec": {
   "display_name": "Python 2",
   "language": "python",
   "name": "python2"
  },
  "language_info": {
   "codemirror_mode": {
    "name": "ipython",
    "version": 2
   },
   "file_extension": ".py",
   "mimetype": "text/x-python",
   "name": "python",
   "nbconvert_exporter": "python",
   "pygments_lexer": "ipython2",
   "version": "2.7.6"
  }
 },
 "nbformat": 4,
 "nbformat_minor": 2
}
